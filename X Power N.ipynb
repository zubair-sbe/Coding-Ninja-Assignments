{
 "cells": [
  {
   "cell_type": "markdown",
   "id": "54a1b30f",
   "metadata": {},
   "source": [
    "# Find X raised to power \n",
    "\n",
    "You are given two integers: X and N. You have to calculate X raised to power N and print it.\n",
    "\n",
    "### Input format:\n",
    "\n",
    "The first line of input contains an integer X (1 <= X <= 100)\n",
    "The second line of input contains an integer N (1 <= N <= 10) \n",
    "\n",
    "### Constraints:\n",
    "\n",
    "Time Limit: 1 second\n",
    "\n",
    "### Output format:\n",
    "\n",
    "The first and only line of output contains the result.  \n",
    "\n",
    "### Sample Input:\n",
    "\n",
    "10\n",
    "4\n",
    "\n",
    "### Sample Output:\n",
    "\n",
    "10000"
   ]
  },
  {
   "cell_type": "code",
   "execution_count": 1,
   "id": "68987b11",
   "metadata": {},
   "outputs": [
    {
     "name": "stdout",
     "output_type": "stream",
     "text": [
      "10\n",
      "4\n",
      "10000\n"
     ]
    }
   ],
   "source": [
    "X = int(input())\n",
    "N = int(input())\n",
    "\n",
    "print(X ** N)\n"
   ]
  },
  {
   "cell_type": "code",
   "execution_count": null,
   "id": "347696de",
   "metadata": {},
   "outputs": [],
   "source": []
  }
 ],
 "metadata": {
  "kernelspec": {
   "display_name": "Python 3 (ipykernel)",
   "language": "python",
   "name": "python3"
  },
  "language_info": {
   "codemirror_mode": {
    "name": "ipython",
    "version": 3
   },
   "file_extension": ".py",
   "mimetype": "text/x-python",
   "name": "python",
   "nbconvert_exporter": "python",
   "pygments_lexer": "ipython3",
   "version": "3.9.13"
  }
 },
 "nbformat": 4,
 "nbformat_minor": 5
}
