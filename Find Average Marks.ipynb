{
 "cells": [
  {
   "cell_type": "markdown",
   "id": "d565a2eb",
   "metadata": {},
   "source": [
    "# Find average Marks\n",
    "\n",
    "Write a program to input marks of three tests of a student (all integers). Then calculate and print the average of all test marks.\n",
    "\n",
    "### Input format :\n",
    "\n",
    "3 Test marks (in different lines)\n",
    "\n",
    "### Output format :\n",
    "\n",
    "Average \n",
    "\n",
    "### Sample Input:\n",
    "\n",
    "10\n",
    "20\n",
    "30\n",
    "\n",
    "### Sample Output:\n",
    "\n",
    "20.0"
   ]
  },
  {
   "cell_type": "code",
   "execution_count": 1,
   "id": "a2a59954",
   "metadata": {},
   "outputs": [
    {
     "name": "stdout",
     "output_type": "stream",
     "text": [
      "10\n",
      "20\n",
      "30\n",
      "20.0\n"
     ]
    }
   ],
   "source": [
    "markOne = int(input())\n",
    "markTwo = int(input())\n",
    "markThree = int(input())\n",
    "Average = (markOne+markTwo+markThree)/3\n",
    "print(Average)"
   ]
  },
  {
   "cell_type": "code",
   "execution_count": null,
   "id": "8649eca6",
   "metadata": {},
   "outputs": [],
   "source": []
  }
 ],
 "metadata": {
  "kernelspec": {
   "display_name": "Python 3 (ipykernel)",
   "language": "python",
   "name": "python3"
  },
  "language_info": {
   "codemirror_mode": {
    "name": "ipython",
    "version": 3
   },
   "file_extension": ".py",
   "mimetype": "text/x-python",
   "name": "python",
   "nbconvert_exporter": "python",
   "pygments_lexer": "ipython3",
   "version": "3.9.13"
  }
 },
 "nbformat": 4,
 "nbformat_minor": 5
}
